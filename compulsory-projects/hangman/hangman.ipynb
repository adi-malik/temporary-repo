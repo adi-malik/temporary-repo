{
 "cells": [
  {
   "cell_type": "markdown",
   "metadata": {},
   "source": [
    "<h1>The hangman project</h1>"
   ]
  },
  {
   "cell_type": "code",
   "execution_count": null,
   "metadata": {
    "vscode": {
     "languageId": "plaintext"
    }
   },
   "outputs": [],
   "source": [
    "import random"
   ]
  },
  {
   "cell_type": "code",
   "execution_count": null,
   "metadata": {
    "vscode": {
     "languageId": "plaintext"
    }
   },
   "outputs": [],
   "source": [
    "wordslist = [\"python\", \"playground\", \"plesure\"]\n",
    "def Damnit1(wordslist):\n",
    "    return random.choice(wordslist)\n",
    "\n",
    "words = Damnit1(wordslist)\n",
    "guessed_letters = []\n",
    "attempts = 6\n",
    "guessed_word = False"
   ]
  },
  {
   "cell_type": "code",
   "execution_count": null,
   "metadata": {
    "vscode": {
     "languageId": "plaintext"
    }
   },
   "outputs": [],
   "source": [
    "def display_word():\n",
    "    result = ''\n",
    "    for letter in words:\n",
    "        if letter in guessed_letters:\n",
    "            result += letter + ' '\n",
    "        else:\n",
    "            result += '_ '\n",
    "    return result.strip()\n"
   ]
  },
  {
   "cell_type": "code",
   "execution_count": null,
   "metadata": {
    "vscode": {
     "languageId": "plaintext"
    }
   },
   "outputs": [],
   "source": [
    "def game(words, guessed_letters):\n",
    "    global attempts, guessed_word\n",
    "    while attempts > 0 and not guessed_word:\n",
    "        users_input = input(\"Guess one letter: \").lower()\n",
    "        \n",
    "        if len(users_input) != 1 or not users_input.isalpha():\n",
    "            print(\"Invalid input, please guess one letter.\")\n",
    "            continue\n",
    "        \n",
    "        if users_input in guessed_letters:\n",
    "            print(\"You've guessed that letter, please try a different one!\")\n",
    "            continue\n",
    "        \n",
    "        guessed_letters.append(users_input)\n",
    "        \n",
    "        if users_input in words:\n",
    "            print(\"Good job!\")\n",
    "        else:\n",
    "            attempts -= 1\n",
    "            print(f\"You have {attempts} attempts left!\")\n",
    "            print(\"Answer incorrect, please try again.\")\n",
    "        \n",
    "        print(display_word())\n",
    "        \n",
    "        if all(letter in guessed_letters for letter in words):\n",
    "            guessed_word = True\n",
    "            print(\"Congratulations, you've guessed the word!\")\n",
    "    \n",
    "    if not guessed_word:\n",
    "        print(f\"Game over! The word was {words}.\")"
   ]
  },
  {
   "cell_type": "code",
   "execution_count": null,
   "metadata": {
    "vscode": {
     "languageId": "plaintext"
    }
   },
   "outputs": [],
   "source": [
    "\n",
    "    game(words, guessed_letters)"
   ]
  }
 ],
 "metadata": {
  "language_info": {
   "name": "python"
  }
 },
 "nbformat": 4,
 "nbformat_minor": 2
}
